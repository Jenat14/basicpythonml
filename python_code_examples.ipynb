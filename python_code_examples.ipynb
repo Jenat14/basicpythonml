{
  "nbformat": 4,
  "nbformat_minor": 0,
  "metadata": {
    "colab": {
      "provenance": [],
      "authorship_tag": "ABX9TyNDybVnFlD/1UQf/vpzgKCw",
      "include_colab_link": true
    },
    "kernelspec": {
      "name": "python3",
      "display_name": "Python 3"
    },
    "language_info": {
      "name": "python"
    }
  },
  "cells": [
    {
      "cell_type": "markdown",
      "metadata": {
        "id": "view-in-github",
        "colab_type": "text"
      },
      "source": [
        "<a href=\"https://colab.research.google.com/github/Jenat14/basicpythonml/blob/main/python_code_examples.ipynb\" target=\"_parent\"><img src=\"https://colab.research.google.com/assets/colab-badge.svg\" alt=\"Open In Colab\"/></a>"
      ]
    },
    {
      "cell_type": "markdown",
      "source": [
        "##1.Program to find largest of three numbers\n",
        "- **step 1:** Read three numbers from the user\n",
        "- **step 2:** Find the largest using conditionals `if-elif-else`\n",
        "- **step 3:** Print the largest number"
      ],
      "metadata": {
        "id": "_ThH70m005CI"
      }
    },
    {
      "cell_type": "code",
      "source": [
        "num1=int(input(\"Enter the first number:\"))\n",
        "num2=int(input(\"Enter the second number:\"))\n",
        "num3=int(input(\"Enter the third number:\"))\n",
        "if (num1>=num2) and (num1>=num3):\n",
        "  largest=num1\n",
        "elif (num2>=num1) and (num2>=num3):\n",
        "  largest=num2\n",
        "else:\n",
        "  largest=num3\n",
        "print(\"The largest number is:\",largest)"
      ],
      "metadata": {
        "colab": {
          "base_uri": "https://localhost:8080/"
        },
        "id": "e2d_88E41Wh6",
        "outputId": "73df3416-38fe-4d47-daa5-8890190be691"
      },
      "execution_count": null,
      "outputs": [
        {
          "output_type": "stream",
          "name": "stdout",
          "text": [
            "Enter the first number:87\n",
            "Enter the second number:43\n",
            "Enter the third number:32\n",
            "The largest number is: 87\n"
          ]
        }
      ]
    },
    {
      "cell_type": "markdown",
      "source": [
        "##2.Printing multiplication table\n",
        "- **step 1:** Read a number from user\n",
        "- **step 2:** Iterate i from 1 to 10 to find the product\n",
        "- **step 3:** Print the multiplication table\n"
      ],
      "metadata": {
        "id": "zu6s-2903waC"
      }
    },
    {
      "cell_type": "code",
      "source": [
        "n=int(input(\"Enter the number:\"))\n",
        "for i in range(1,11):\n",
        "  print(n,' x ',i,' = ',n*i)"
      ],
      "metadata": {
        "colab": {
          "base_uri": "https://localhost:8080/"
        },
        "id": "sv1EQ66l4iYZ",
        "outputId": "b99f26ab-843a-416d-d83a-536d95c2b193"
      },
      "execution_count": null,
      "outputs": [
        {
          "output_type": "stream",
          "name": "stdout",
          "text": [
            "Enter the number:4\n",
            "4  x  1  =  4\n",
            "4  x  2  =  8\n",
            "4  x  3  =  12\n",
            "4  x  4  =  16\n",
            "4  x  5  =  20\n",
            "4  x  6  =  24\n",
            "4  x  7  =  28\n",
            "4  x  8  =  32\n",
            "4  x  9  =  36\n",
            "4  x  10  =  40\n"
          ]
        }
      ]
    },
    {
      "cell_type": "markdown",
      "source": [
        "##3.Check for the sign of a number\n",
        "- **step 1:** Read the number\n",
        "- **step 2:** check the sign of the number using conditionals `if-elif-else`\n",
        "- **step 3:** print the sign of the number"
      ],
      "metadata": {
        "id": "j2DmCUpq5Ix6"
      }
    },
    {
      "cell_type": "code",
      "source": [
        "num=int(input(\"Enter a number to check sign:\"))\n",
        "if(num>0):\n",
        "  print(\"Positive number\")\n",
        "elif(num==0):\n",
        "  print(\"zero\")\n",
        "else:\n",
        "    print(\"Negative number\")"
      ],
      "metadata": {
        "colab": {
          "base_uri": "https://localhost:8080/"
        },
        "id": "nuvbmbCL5lVZ",
        "outputId": "872b7771-57b2-4579-d473-0be16817152a"
      },
      "execution_count": null,
      "outputs": [
        {
          "output_type": "stream",
          "name": "stdout",
          "text": [
            "Enter a number to check sign:-342\n",
            "Negative number\n"
          ]
        }
      ]
    },
    {
      "cell_type": "markdown",
      "source": [
        "##4.Find the surface area and volume of a cylinder\n",
        "- **step 1:** Read the radius and height\n",
        "- **step 2:** import the value of $pi$ from math\n",
        "- **step 3:** find the surface area and volume using corresponding formula $$SA=2\\pi r(r+h)$$ $$V=\\pi r^2 h$$\n",
        "- **step 4:** print the values"
      ],
      "metadata": {
        "id": "ECFt0Ou_6Dyy"
      }
    },
    {
      "cell_type": "code",
      "source": [
        "pi=3.14\n",
        "rad=float(input(\"Enter the radius\"))\n",
        "hgt=float(input(\"Enter the height\"))\n",
        "SA=2*pi*rad*(rad+hgt)\n",
        "V=pi*rad**2*hgt\n",
        "print(\"Surface area:\",SA,\"/nVolume:\",V)"
      ],
      "metadata": {
        "colab": {
          "base_uri": "https://localhost:8080/"
        },
        "id": "Ic9FDD-E62p4",
        "outputId": "ae3cca7c-d4d1-408e-a0dd-d593ca4a82df"
      },
      "execution_count": null,
      "outputs": [
        {
          "output_type": "stream",
          "name": "stdout",
          "text": [
            "Enter the radius4\n",
            "Enter the height5\n",
            "Surface area: 226.08 /nVolume: 251.20000000000002\n"
          ]
        }
      ]
    },
    {
      "cell_type": "markdown",
      "source": [
        "##5.Finding the area of the circle\n",
        "- **step 1:** Read the value of radius from user\n",
        "- **step 2:** Find the $area$ of circle using corresponding formula $$A= \\pi r^2$$\n",
        "- **step 3:** Print the value of area"
      ],
      "metadata": {
        "id": "hGWxrPoY7u-p"
      }
    },
    {
      "cell_type": "code",
      "source": [
        "r=int(input(\"Enter the radius of the cirlce:\"))\n",
        "pi=3.14\n",
        "A=pi*r**2\n",
        "print(\"The are of the circle:\",A)"
      ],
      "metadata": {
        "colab": {
          "base_uri": "https://localhost:8080/"
        },
        "id": "-d7B3HkS8GWp",
        "outputId": "2fc1b7c4-23dc-4bb0-ed29-678f50ce246d"
      },
      "execution_count": null,
      "outputs": [
        {
          "output_type": "stream",
          "name": "stdout",
          "text": [
            "Enter the radius of the cirlce:4\n",
            "The are of the circle: 50.24\n"
          ]
        }
      ]
    },
    {
      "cell_type": "markdown",
      "source": [
        "##6.Find the area of a rectangle with length $l$ and breadth $b$\n",
        "- **step 1:** input the values of $l$ and $b$\n",
        "- **step 2:** Find the area of the rectangle by the formula $$A=l*b$$\n",
        "- **step 3:** print the area"
      ],
      "metadata": {
        "id": "5CdTuKCo8e1o"
      }
    },
    {
      "cell_type": "code",
      "source": [
        "l=12 ; b=6\n",
        "Area=l*b\n",
        "print(\"The are of the rectangle is:\",Area)"
      ],
      "metadata": {
        "colab": {
          "base_uri": "https://localhost:8080/"
        },
        "id": "Lm0joM27-TyZ",
        "outputId": "c448e183-75d2-460a-b04e-d8760dbbd171"
      },
      "execution_count": null,
      "outputs": [
        {
          "output_type": "stream",
          "name": "stdout",
          "text": [
            "The are of the rectangle is: 72\n"
          ]
        }
      ]
    },
    {
      "cell_type": "markdown",
      "source": [
        "##7.Replacing a word with another word in the sentence\n",
        "- **step 1:** Read a sentence as a string from user\n",
        "- **step 2:** replace a word in the sentence using `replace()` method in `python`\n",
        "```\n",
        " Syntax: string.replace(old,new)\n",
        " ```\n",
        "- **step 3:** print the new sentence"
      ],
      "metadata": {
        "id": "Tuif2Lu9-teq"
      }
    },
    {
      "cell_type": "code",
      "source": [
        "str=input(\"Enter the string:\")\n",
        "nstr=str.replace('world','universe')\n",
        "print(\"After replacing:\",nstr)"
      ],
      "metadata": {
        "colab": {
          "base_uri": "https://localhost:8080/"
        },
        "id": "8hbQwJ4t_xDQ",
        "outputId": "5d12973e-a855-4676-edf0-bc2947a1cd72"
      },
      "execution_count": null,
      "outputs": [
        {
          "output_type": "stream",
          "name": "stdout",
          "text": [
            "Enter the string:This is a new world\n",
            "After replacing: This is a new universe\n"
          ]
        }
      ]
    },
    {
      "cell_type": "markdown",
      "source": [
        "##8.Removing a word from the sentence\n",
        "- **step 1:** Read a string from user\n",
        "- **step 2:** Read the word to delete\n",
        "- **step 3:** split the sentence into words using `split()` method\n",
        "- **step 4:** check for the specific word in the obtained list\n",
        "- **step 5:** find and remove the word with `remove()` method"
      ],
      "metadata": {
        "id": "MsiTkhtaAoQQ"
      }
    },
    {
      "cell_type": "markdown",
      "source": [
        "##9.program to split a sentence into words\n",
        "- **step 1:** Read a string\n",
        "- **step 2:** split the string usinf `split()` method\n",
        "- **step 3:** print the result"
      ],
      "metadata": {
        "id": "RhSugEU0Bcwx"
      }
    },
    {
      "cell_type": "code",
      "source": [
        "string= input(\"Enter a sentence:\")\n",
        "nstring=string.split()\n",
        "print(nstring)"
      ],
      "metadata": {
        "colab": {
          "base_uri": "https://localhost:8080/"
        },
        "id": "zdKwBjHbB1LY",
        "outputId": "a6a96124-07f8-42cc-f00c-e98b4731eac9"
      },
      "execution_count": null,
      "outputs": [
        {
          "output_type": "stream",
          "name": "stdout",
          "text": [
            "Enter a sentence:you are a girl\n",
            "['you', 'are', 'a', 'girl']\n"
          ]
        }
      ]
    }
  ]
}