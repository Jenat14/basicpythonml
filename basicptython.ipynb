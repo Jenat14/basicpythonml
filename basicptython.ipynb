{
  "nbformat": 4,
  "nbformat_minor": 0,
  "metadata": {
    "colab": {
      "provenance": [],
      "authorship_tag": "ABX9TyPrnS+THAOgui08JPT7L+Tm",
      "include_colab_link": true
    },
    "kernelspec": {
      "name": "python3",
      "display_name": "Python 3"
    },
    "language_info": {
      "name": "python"
    }
  },
  "cells": [
    {
      "cell_type": "markdown",
      "metadata": {
        "id": "view-in-github",
        "colab_type": "text"
      },
      "source": [
        "<a href=\"https://colab.research.google.com/github/Jenat14/basicpythonml/blob/main/basicptython.ipynb\" target=\"_parent\"><img src=\"https://colab.research.google.com/assets/colab-badge.svg\" alt=\"Open In Colab\"/></a>"
      ]
    },
    {
      "cell_type": "markdown",
      "source": [
        "# Introduction to `Python`\n",
        "First program: Displays a Hello"
      ],
      "metadata": {
        "id": "ciBCfot17I8h"
      }
    },
    {
      "cell_type": "code",
      "source": [
        "print(\"Hello\")"
      ],
      "metadata": {
        "colab": {
          "base_uri": "https://localhost:8080/"
        },
        "id": "SKTQgKZr75fJ",
        "outputId": "01311aa7-7ebc-4a6e-9407-20b5273f7f61"
      },
      "execution_count": null,
      "outputs": [
        {
          "output_type": "stream",
          "name": "stdout",
          "text": [
            "Hello\n"
          ]
        }
      ]
    },
    {
      "cell_type": "markdown",
      "source": [
        ">Program to assign an integer and display it"
      ],
      "metadata": {
        "id": "wzC2kxuE9Qdj"
      }
    },
    {
      "cell_type": "code",
      "source": [
        "a=10\n",
        "print(\"The value of the variable a is :\",a)"
      ],
      "metadata": {
        "colab": {
          "base_uri": "https://localhost:8080/"
        },
        "id": "oBlgRc9a80Tx",
        "outputId": "155844b2-c0ac-42f3-a9c6-9f23297372b7"
      },
      "execution_count": null,
      "outputs": [
        {
          "output_type": "stream",
          "name": "stdout",
          "text": [
            "The value of the variable a is : 10\n"
          ]
        }
      ]
    },
    {
      "cell_type": "markdown",
      "source": [
        ">Program to find sum of two numbers"
      ],
      "metadata": {
        "id": "xAlYILbM9pNo"
      }
    },
    {
      "cell_type": "code",
      "source": [
        "a=10\n",
        "b=5\n",
        "c=a+b\n",
        "print(\"The sum is :\",c)"
      ],
      "metadata": {
        "colab": {
          "base_uri": "https://localhost:8080/"
        },
        "id": "eCovzkT-9tMc",
        "outputId": "52df3672-9729-4dc1-ffa0-3fc4672ce878"
      },
      "execution_count": null,
      "outputs": [
        {
          "output_type": "stream",
          "name": "stdout",
          "text": [
            "The sum is : 15\n"
          ]
        }
      ]
    },
    {
      "cell_type": "markdown",
      "source": [
        ">Read two numbers from user and find the sum."
      ],
      "metadata": {
        "id": "nliB8xUO-Uto"
      }
    },
    {
      "cell_type": "code",
      "source": [
        "a=input(\"Enter the first number:\")"
      ],
      "metadata": {
        "colab": {
          "base_uri": "https://localhost:8080/"
        },
        "id": "kNsG13WD-bsJ",
        "outputId": "b53accc9-525d-4113-9999-20b833789467"
      },
      "execution_count": null,
      "outputs": [
        {
          "name": "stdout",
          "output_type": "stream",
          "text": [
            "Enter the first number:5\n"
          ]
        }
      ]
    },
    {
      "cell_type": "code",
      "source": [
        "b=input(\"Enter the second number:\")"
      ],
      "metadata": {
        "colab": {
          "base_uri": "https://localhost:8080/"
        },
        "id": "NCiX3v4a-m_n",
        "outputId": "bc88717e-437b-4ecd-d8d9-a9f3b426fe8e"
      },
      "execution_count": null,
      "outputs": [
        {
          "name": "stdout",
          "output_type": "stream",
          "text": [
            "Enter the second number:43\n"
          ]
        }
      ]
    },
    {
      "cell_type": "code",
      "source": [
        "# displaying a and b\n",
        "print(a) # here input function  reads values as strings. int() cast it to integer"
      ],
      "metadata": {
        "colab": {
          "base_uri": "https://localhost:8080/"
        },
        "id": "gN2uuuwu-5Qw",
        "outputId": "ac79d96e-b601-4d0b-b569-4afddd8f9a87"
      },
      "execution_count": null,
      "outputs": [
        {
          "output_type": "stream",
          "name": "stdout",
          "text": [
            "5\n"
          ]
        }
      ]
    },
    {
      "cell_type": "code",
      "source": [
        "sum=a+b\n",
        "print(\"The sum of numbers is :\",sum)"
      ],
      "metadata": {
        "colab": {
          "base_uri": "https://localhost:8080/"
        },
        "id": "Sdx_G-ww_GtI",
        "outputId": "dc1537a0-4975-48d5-b2f3-17f4938a7e43"
      },
      "execution_count": null,
      "outputs": [
        {
          "output_type": "stream",
          "name": "stdout",
          "text": [
            "The sum of numbers is : 543\n"
          ]
        }
      ]
    },
    {
      "cell_type": "code",
      "source": [
        "a=int(input(\"Enter the first number:\"))\n",
        "b=int(input(\"Enter the second number:\"))\n",
        "s=a+b\n",
        "print(\"The sum is:\",s)"
      ],
      "metadata": {
        "colab": {
          "base_uri": "https://localhost:8080/"
        },
        "id": "tiNFN-BN_1X4",
        "outputId": "b7a19e82-6e62-4ad1-f6cd-c38aa4e3296f"
      },
      "execution_count": null,
      "outputs": [
        {
          "output_type": "stream",
          "name": "stdout",
          "text": [
            "Enter the first number:5\n",
            "Enter the second number:47\n",
            "The sum is: 52\n"
          ]
        }
      ]
    },
    {
      "cell_type": "markdown",
      "source": [
        ">String as input\n"
      ],
      "metadata": {
        "id": "i1jRYtu2M2ZY"
      }
    },
    {
      "cell_type": "code",
      "source": [
        "a=input(\"Enter the first sentence:\")\n",
        "b=input(\"Enter the second sentence:\")\n",
        "c=a+b\n",
        "print(c)"
      ],
      "metadata": {
        "id": "vCf6ztyrM84v",
        "colab": {
          "base_uri": "https://localhost:8080/"
        },
        "outputId": "e5ad05de-9eb4-4e22-876d-639f236651b0"
      },
      "execution_count": null,
      "outputs": [
        {
          "output_type": "stream",
          "name": "stdout",
          "text": [
            "Enter the first sentence:Hello\n",
            "Enter the second sentence:World!\n",
            "HelloWorld!\n"
          ]
        }
      ]
    },
    {
      "cell_type": "markdown",
      "source": [
        ">String operations"
      ],
      "metadata": {
        "id": "5m1nEOxlOwZT"
      }
    },
    {
      "cell_type": "code",
      "source": [
        "str = \"My name is Jenat\"\n",
        "print(str)\n",
        "print(str[0])\n",
        "print(str[11:])\n",
        "print(str[3:7])\n",
        "print(str[:7])\n",
        "print(str+\" HI!\")"
      ],
      "metadata": {
        "colab": {
          "base_uri": "https://localhost:8080/"
        },
        "id": "k30KChmkOzpa",
        "outputId": "a661aa21-85b4-4e9e-a38e-0cbc19e0f784"
      },
      "execution_count": null,
      "outputs": [
        {
          "output_type": "stream",
          "name": "stdout",
          "text": [
            "My name is Jenat\n",
            "M\n",
            "Jenat\n",
            "name\n",
            "My name\n",
            "My name is Jenat HI!\n"
          ]
        }
      ]
    },
    {
      "cell_type": "markdown",
      "source": [
        ">Lists and Tuples"
      ],
      "metadata": {
        "id": "6PxM5XC0PwmT"
      }
    },
    {
      "cell_type": "code",
      "source": [
        "list = ['abcd',123,'jen',55.5]\n",
        "tuple = ('abcd',321,'jenat',34.4)\n",
        "print(list)\n",
        "print(tuple)\n",
        "print(list[3])\n",
        "print(tuple[0])\n",
        "list[0]='dcba'\n",
        "list.append(222) #add new element to the list\n",
        "print(\"The updated list:\",list)\n",
        "tuple[0]='pqrs' #add new element to tuple\n",
        "print(\"The updated tuple:\",tuple) #A tuple cannot be further edited"
      ],
      "metadata": {
        "colab": {
          "base_uri": "https://localhost:8080/",
          "height": 305
        },
        "id": "onEGspkDP1ms",
        "outputId": "3edfdee0-1bad-4f91-9124-ce3ac51c94f2"
      },
      "execution_count": null,
      "outputs": [
        {
          "output_type": "stream",
          "name": "stdout",
          "text": [
            "['abcd', 123, 'jen', 55.5]\n",
            "('abcd', 321, 'jenat', 34.4)\n",
            "55.5\n",
            "abcd\n",
            "The updated list: ['dcba', 123, 'jen', 55.5, 222]\n"
          ]
        },
        {
          "output_type": "error",
          "ename": "TypeError",
          "evalue": "ignored",
          "traceback": [
            "\u001b[0;31m---------------------------------------------------------------------------\u001b[0m",
            "\u001b[0;31mTypeError\u001b[0m                                 Traceback (most recent call last)",
            "\u001b[0;32m<ipython-input-2-0217dcc77dd4>\u001b[0m in \u001b[0;36m<cell line: 10>\u001b[0;34m()\u001b[0m\n\u001b[1;32m      8\u001b[0m \u001b[0mlist\u001b[0m\u001b[0;34m.\u001b[0m\u001b[0mappend\u001b[0m\u001b[0;34m(\u001b[0m\u001b[0;36m222\u001b[0m\u001b[0;34m)\u001b[0m \u001b[0;31m#add new element to the list\u001b[0m\u001b[0;34m\u001b[0m\u001b[0;34m\u001b[0m\u001b[0m\n\u001b[1;32m      9\u001b[0m \u001b[0mprint\u001b[0m\u001b[0;34m(\u001b[0m\u001b[0;34m\"The updated list:\"\u001b[0m\u001b[0;34m,\u001b[0m\u001b[0mlist\u001b[0m\u001b[0;34m)\u001b[0m\u001b[0;34m\u001b[0m\u001b[0;34m\u001b[0m\u001b[0m\n\u001b[0;32m---> 10\u001b[0;31m \u001b[0mtuple\u001b[0m\u001b[0;34m[\u001b[0m\u001b[0;36m0\u001b[0m\u001b[0;34m]\u001b[0m\u001b[0;34m=\u001b[0m\u001b[0;34m'pqrs'\u001b[0m \u001b[0;31m#add new element to tuple\u001b[0m\u001b[0;34m\u001b[0m\u001b[0;34m\u001b[0m\u001b[0m\n\u001b[0m\u001b[1;32m     11\u001b[0m \u001b[0mprint\u001b[0m\u001b[0;34m(\u001b[0m\u001b[0;34m\"The updated tuple:\"\u001b[0m\u001b[0;34m,\u001b[0m\u001b[0mtuple\u001b[0m\u001b[0;34m)\u001b[0m\u001b[0;34m\u001b[0m\u001b[0;34m\u001b[0m\u001b[0m\n",
            "\u001b[0;31mTypeError\u001b[0m: 'tuple' object does not support item assignment"
          ]
        }
      ]
    },
    {
      "cell_type": "markdown",
      "source": [
        ">List and Dictionary\n",
        " "
      ],
      "metadata": {
        "id": "lnCIj5w9SeqK"
      }
    },
    {
      "cell_type": "code",
      "source": [
        "lt=[123,2023] \n",
        "dt={'num':456,'year':2024}\n",
        "print(lt[0]) #prints by index\n",
        "print(dt['num']) #prints by keys\n",
        "print(\"The list is:\",lt)\n",
        "print(\"The dictionary is:\",dt)\n",
        "dt['mon']=4 #add a new element to dt\n",
        "print(dt)\n",
        "lt.append(3) #add a new element to lt\n",
        "print(lt)\n",
        "print(dt)\n",
        "del dt['num'] #removing an element from dt\n",
        "print(dt)\n",
        "print(dt.keys()) #printing keys in dt\n",
        "print(dt.values()) #printing values in dt\n",
        "print(sorted(dt.keys())) #printing sorted keys list\n",
        "print(sorted(dt.values())) #printing sorted values\n",
        "print('mon' in dt) #check if a key in dt\n",
        "print('year' not in dt) \n",
        "print('num' in dt) \n",
        "print('day' not in dt) "
      ],
      "metadata": {
        "colab": {
          "base_uri": "https://localhost:8080/"
        },
        "id": "AodhSrOMSpYH",
        "outputId": "3da03b91-fdda-4e39-ffdc-6e8a97119b6a"
      },
      "execution_count": null,
      "outputs": [
        {
          "output_type": "stream",
          "name": "stdout",
          "text": [
            "123\n",
            "456\n",
            "The list is: [123, 2023]\n",
            "The dictionary is: {'num': 456, 'year': 2024}\n",
            "{'num': 456, 'year': 2024, 'mon': 4}\n",
            "[123, 2023, 3]\n",
            "{'num': 456, 'year': 2024, 'mon': 4}\n",
            "{'year': 2024, 'mon': 4}\n",
            "dict_keys(['year', 'mon'])\n",
            "dict_values([2024, 4])\n",
            "['mon', 'year']\n",
            "[4, 2024]\n",
            "True\n",
            "False\n",
            "False\n",
            "True\n"
          ]
        }
      ]
    },
    {
      "cell_type": "markdown",
      "source": [
        ">Loops : Factorial of a number\n"
      ],
      "metadata": {
        "id": "SIfVh1C1ZuF7"
      }
    },
    {
      "cell_type": "code",
      "source": [
        "n=int(input(\"Enter a number:\"))\n",
        "fact=1\n",
        "#using for loop\n",
        "for i in range (1,n+1):\n",
        "  fact*=i\n",
        "print(\"The factorial is(for loop):\",fact)\n",
        "#using while loop\n",
        "j=1\n",
        "f=1\n",
        "while j<=n :\n",
        "  f*=j\n",
        "  j=j+1\n",
        "print(\"The factorial is(While loop):\",f)"
      ],
      "metadata": {
        "colab": {
          "base_uri": "https://localhost:8080/"
        },
        "id": "PGoh_cnZZx5e",
        "outputId": "9c466d4f-c7e6-49a6-8b72-e98dd4493714"
      },
      "execution_count": null,
      "outputs": [
        {
          "output_type": "stream",
          "name": "stdout",
          "text": [
            "Enter a number:6\n",
            "The factorial is(for loop): 720\n",
            "The factorial is(While loop): 720\n"
          ]
        }
      ]
    },
    {
      "cell_type": "markdown",
      "source": [
        ">Conditions : odd or even"
      ],
      "metadata": {
        "id": "HZUCGnrlajb_"
      }
    },
    {
      "cell_type": "code",
      "source": [
        "n=int(input(\"Enter the number\"))\n",
        "if n%2==0:\n",
        "  print(n,\"is an even number\")\n",
        "else :\n",
        "  print(n,\"is an odd number\")"
      ],
      "metadata": {
        "colab": {
          "base_uri": "https://localhost:8080/"
        },
        "id": "czFBmJSEezvy",
        "outputId": "127b9a55-e8b7-421f-a13c-fa85d70e5e59"
      },
      "execution_count": null,
      "outputs": [
        {
          "output_type": "stream",
          "name": "stdout",
          "text": [
            "Enter the number7\n",
            "7 is an odd number\n"
          ]
        }
      ]
    },
    {
      "cell_type": "markdown",
      "source": [
        ">Functions"
      ],
      "metadata": {
        "id": "R0ZQjbFBh-3l"
      }
    },
    {
      "cell_type": "code",
      "source": [
        "arr=[3,7,9,6,4]\n",
        "#built in functions\n",
        "print(\"Length of the array:\",len(arr))\n",
        "print(\"The sum of elements of array:\",sum(arr))\n",
        "print(\"The absolute number:\",abs(-34))\n",
        "print(\"The rounded number:\",round(23.43))\n",
        "#user defined functions\n",
        "def tsum(a,b):\n",
        "  return a+b\n",
        "m=int(input(\"Enter the first number:\"))\n",
        "n=int(input(\"Enter the second number:\"))\n",
        "s= tsum(m,n) #calling the function\n",
        "print(\"The sum is:\",s)"
      ],
      "metadata": {
        "colab": {
          "base_uri": "https://localhost:8080/"
        },
        "id": "BkZwb-wGiDTX",
        "outputId": "7529b5bd-e303-42ab-de0d-47cc6f1cb33e"
      },
      "execution_count": null,
      "outputs": [
        {
          "output_type": "stream",
          "name": "stdout",
          "text": [
            "Length of the array: 5\n",
            "The sum of elements of array: 29\n",
            "The absolute number: 34\n",
            "The rounded number: 23\n",
            "Enter the first number:3\n",
            "Enter the second number:4\n",
            "The sum is: 7\n"
          ]
        }
      ]
    },
    {
      "cell_type": "markdown",
      "source": [
        ">Arrays and Matrices"
      ],
      "metadata": {
        "id": "rWrCaSyzvs4R"
      }
    },
    {
      "cell_type": "code",
      "source": [
        "import numpy as np #importing Numpy from library\n",
        "a=np.array([1,2,3])\n",
        "b=np.array([4,5,6])\n",
        "print(\"The array A:\\n\",a)\n",
        "print(\"The array B:\\n\",b)\n",
        "#performing array operations\n",
        "print(\"The sum of arrays:\\n\",a+b)\n",
        "print(\"The matrix B+4:\\n\",b+4) #Addition using broadcasting\n",
        "#operations on a 2 dimensinal matrix\n",
        "c=np.array([[1,2,3],[4,5,6]])\n",
        "d=np.array([[1,3,5],[2,4,6]])\n",
        "print(\"The Matrix C\\n\",c)\n",
        "print(\"The Matrix D:\\n\",d)\n",
        "print(\"The sum of matrices C+D:\\n\",c+d)\n",
        "print(\"The sum of matrices D+A:\\n\",d+a) #addition by broadcasting\n",
        "e=np.ones((4,4)) #identity matrix of order 4\n",
        "print(\"The matrix E:\\n\",e)"
      ],
      "metadata": {
        "colab": {
          "base_uri": "https://localhost:8080/"
        },
        "id": "2jUnjNL2vvzu",
        "outputId": "1517e8c6-3e6d-4fe9-f224-9ca39ccbe48f"
      },
      "execution_count": null,
      "outputs": [
        {
          "output_type": "stream",
          "name": "stdout",
          "text": [
            "The array A:\n",
            " [1 2 3]\n",
            "The array B:\n",
            " [4 5 6]\n",
            "The sum of arrays:\n",
            " [5 7 9]\n",
            "The matrix B+4:\n",
            " [ 8  9 10]\n",
            "The Matrix C\n",
            " [[1 2 3]\n",
            " [4 5 6]]\n",
            "The Matrix D:\n",
            " [[1 3 5]\n",
            " [2 4 6]]\n",
            "The sum of matrices C+D:\n",
            " [[ 2  5  8]\n",
            " [ 6  9 12]]\n",
            "The sum of matrices D+A:\n",
            " [[2 5 8]\n",
            " [3 6 9]]\n",
            "The matrix E:\n",
            " [[1. 1. 1. 1.]\n",
            " [1. 1. 1. 1.]\n",
            " [1. 1. 1. 1.]\n",
            " [1. 1. 1. 1.]]\n"
          ]
        }
      ]
    },
    {
      "cell_type": "markdown",
      "source": [
        ">Matrix operations from Numpy"
      ],
      "metadata": {
        "id": "lfEIySB6zGyn"
      }
    },
    {
      "cell_type": "code",
      "source": [
        "import numpy as np\n",
        "a=np.array([[1,2,3],[4,5,6],[7,8,9]])\n",
        "b=np.array([[7,8,9],[4,5,6],[1,2,3]])\n",
        "print('Matrix A:\\n',a)\n",
        "print(\"Matrix B:\\n\",b)\n",
        "print(\"The sum of matrices A and B:\\n\",np.add(a,b)) #matrix addition\n",
        "print(\"product of matrices A and B:\\n\",np.dot(a,b)) #matrix multiplication\n",
        "print(\"The first row of A is:\\n\",a[0,:]) #selecting a row\n",
        "print(\"The second column of B is:\\n\",b[:,1]) #selecting a column\n",
        "#properties of the matrix\n",
        "print(\"The shape of the matrix A:\\n\",a.shape)\n",
        "print(\"The size of the matrix A:\\n\",a.size)\n",
        "print(\"The dimension of the matrix A:\\n\",a.ndim)\n",
        "print(\"The average of the matrix A:\\n\",np.mean(a))\n",
        "print(\"The maximum number in the matrix A:\\n\",np.max(a))\n",
        "print(\"Diagonal of the matrix A:\\n\",a.diagonal())\n",
        "print(\"Determinant of the matrix A:\\n\",np.linalg.det(a))\n",
        "#operations in a matrix\n",
        "print(\"The flattened matrix B:\\n\",b.flatten())\n",
        "print(\"The reshaped matrix B:\\n:\",b.reshape(9,1))\n",
        "print(\"Transpose of matrix B:\\n\",b.transpose())"
      ],
      "metadata": {
        "colab": {
          "base_uri": "https://localhost:8080/"
        },
        "id": "sbx7RVAIzega",
        "outputId": "352cc420-497c-4dd3-e326-b8ff0f7c9f4c"
      },
      "execution_count": 2,
      "outputs": [
        {
          "output_type": "stream",
          "name": "stdout",
          "text": [
            "Matrix A:\n",
            " [[1 2 3]\n",
            " [4 5 6]\n",
            " [7 8 9]]\n",
            "Matrix B:\n",
            " [[7 8 9]\n",
            " [4 5 6]\n",
            " [1 2 3]]\n",
            "The sum of matrices A and B:\n",
            " [[ 8 10 12]\n",
            " [ 8 10 12]\n",
            " [ 8 10 12]]\n",
            "product of matrices A and B:\n",
            " [[ 18  24  30]\n",
            " [ 54  69  84]\n",
            " [ 90 114 138]]\n",
            "The first row of A is:\n",
            " [1 2 3]\n",
            "The second column of B is:\n",
            " [8 5 2]\n",
            "The shape of the matrix A:\n",
            " (3, 3)\n",
            "The size of the matrix A:\n",
            " 9\n",
            "The dimension of the matrix A:\n",
            " 2\n",
            "The average of the matrix A:\n",
            " 5.0\n",
            "The maximum number in the matrix A:\n",
            " 9\n",
            "Diagonal of the matrix A:\n",
            " [1 5 9]\n",
            "Determinant of the matrix A:\n",
            " 0.0\n",
            "The flattened matrix B:\n",
            " [7 8 9 4 5 6 1 2 3]\n",
            "The reshaped matrix B:\n",
            ": [[7]\n",
            " [8]\n",
            " [9]\n",
            " [4]\n",
            " [5]\n",
            " [6]\n",
            " [1]\n",
            " [2]\n",
            " [3]]\n",
            "Transpose of matrix B:\n",
            " [[7 4 1]\n",
            " [8 5 2]\n",
            " [9 6 3]]\n"
          ]
        }
      ]
    },
    {
      "cell_type": "markdown",
      "source": [
        ">Pandas"
      ],
      "metadata": {
        "id": "w2P2klyu8t5k"
      }
    },
    {
      "cell_type": "code",
      "source": [
        "#used to work with data sets\n",
        "import pandas as pd"
      ],
      "metadata": {
        "id": "EGpKjkXZ8zn5"
      },
      "execution_count": null,
      "outputs": []
    },
    {
      "cell_type": "markdown",
      "source": [
        ">Matplotlib"
      ],
      "metadata": {
        "id": "EE0-65IqPL68"
      }
    },
    {
      "cell_type": "code",
      "source": [
        "import matplotlib.pyplot as plt\n",
        "import matplotlib.mlab as mlab"
      ],
      "metadata": {
        "id": "9e_SDDoDPOB3"
      },
      "execution_count": 18,
      "outputs": []
    },
    {
      "cell_type": "markdown",
      "source": [
        ">Line plot"
      ],
      "metadata": {
        "id": "aSI_YzZZSEmO"
      }
    },
    {
      "cell_type": "code",
      "source": [
        "#line plot\n",
        "plt.title(\"Example for a line plot:\")\n",
        "plt.plot([1,3,5,7],[2,4,12,15])\n",
        "plt.xlabel('x axis')\n",
        "plt.ylabel('y axis')\n",
        "plt.show()"
      ],
      "metadata": {
        "id": "_K3IwPdbSG64"
      },
      "execution_count": null,
      "outputs": []
    },
    {
      "cell_type": "markdown",
      "source": [
        ">Bar plot"
      ],
      "metadata": {
        "id": "uURv0lsySIcD"
      }
    },
    {
      "cell_type": "code",
      "source": [
        "#bar plot\n",
        "y=([1,2,5,6,7,9])\n",
        "x=range(len(y))\n",
        "width=1/2\n",
        "plt.bar(x,y,width,color=\"red\")\n",
        "plt.title(\"Example for a bar plot\")\n",
        "plt.show"
      ],
      "metadata": {
        "colab": {
          "base_uri": "https://localhost:8080/",
          "height": 469
        },
        "id": "lJMQlHQsRX3c",
        "outputId": "098e603a-c243-44b6-e515-c534c83f264c"
      },
      "execution_count": 17,
      "outputs": [
        {
          "output_type": "execute_result",
          "data": {
            "text/plain": [
              "<function matplotlib.pyplot.show(close=None, block=None)>"
            ]
          },
          "metadata": {},
          "execution_count": 17
        },
        {
          "output_type": "display_data",
          "data": {
            "text/plain": [
              "<Figure size 640x480 with 1 Axes>"
            ],
            "image/png": "[encoded data removed]"
          },
          "metadata": {}
        }
      ]
    },
    {
      "cell_type": "markdown",
      "source": [
        ">Pi chart"
      ],
      "metadata": {
        "id": "UB9Gu3_vSLSV"
      }
    },
    {
      "cell_type": "code",
      "source": [
        "#pi chart\n",
        "sizes=[30,20,40,10]\n",
        "labels= 'news','media','online','offline'\n",
        "explode = (0, 0, 0, 0.2)\n",
        "fig1,ax1 =plt.subplots()\n",
        "ax1.pie(sizes, explode=explode, labels=labels, autopct='%1.1f%%',startangle=90)\n",
        "ax1.axis('equal')\n",
        "plt.show()"
      ],
      "metadata": {
        "colab": {
          "base_uri": "https://localhost:8080/",
          "height": 406
        },
        "id": "cyaRV48GSNTj",
        "outputId": "a89d75fc-258f-46ee-8b1c-8d055e84134f"
      },
      "execution_count": 40,
      "outputs": [
        {
          "output_type": "display_data",
          "data": {
            "text/plain": [
              "<Figure size 640x480 with 1 Axes>"
            ],
            "image/png": "[encoded data removed]"
          },
          "metadata": {}
        }
      ]
    }
  ]
}