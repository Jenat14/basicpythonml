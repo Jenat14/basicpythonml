{
  "nbformat": 4,
  "nbformat_minor": 0,
  "metadata": {
    "colab": {
      "provenance": [],
      "authorship_tag": "ABX9TyNT+Tc7vbt79Lup7tVQ05aE",
      "include_colab_link": true
    },
    "kernelspec": {
      "name": "python3",
      "display_name": "Python 3"
    },
    "language_info": {
      "name": "python"
    }
  },
  "cells": [
    {
      "cell_type": "markdown",
      "metadata": {
        "id": "view-in-github",
        "colab_type": "text"
      },
      "source": [
        "<a href=\"https://colab.research.google.com/github/Jenat14/basicpythonml/blob/main/basicptython.ipynb\" target=\"_parent\"><img src=\"https://colab.research.google.com/assets/colab-badge.svg\" alt=\"Open In Colab\"/></a>"
      ]
    },
    {
      "cell_type": "markdown",
      "source": [
        "# Introduction to `Python`\n",
        "First program: Displays a Hello"
      ],
      "metadata": {
        "id": "ciBCfot17I8h"
      }
    },
    {
      "cell_type": "code",
      "source": [
        "print(\"Hello\")"
      ],
      "metadata": {
        "colab": {
          "base_uri": "https://localhost:8080/"
        },
        "id": "SKTQgKZr75fJ",
        "outputId": "01311aa7-7ebc-4a6e-9407-20b5273f7f61"
      },
      "execution_count": 1,
      "outputs": [
        {
          "output_type": "stream",
          "name": "stdout",
          "text": [
            "Hello\n"
          ]
        }
      ]
    },
    {
      "cell_type": "markdown",
      "source": [
        ">Program to assign an integer and display it"
      ],
      "metadata": {
        "id": "wzC2kxuE9Qdj"
      }
    },
    {
      "cell_type": "code",
      "source": [
        "a=10\n",
        "print(\"The value of the variable a is :\",a)"
      ],
      "metadata": {
        "colab": {
          "base_uri": "https://localhost:8080/"
        },
        "id": "oBlgRc9a80Tx",
        "outputId": "155844b2-c0ac-42f3-a9c6-9f23297372b7"
      },
      "execution_count": 3,
      "outputs": [
        {
          "output_type": "stream",
          "name": "stdout",
          "text": [
            "The value of the variable a is : 10\n"
          ]
        }
      ]
    },
    {
      "cell_type": "markdown",
      "source": [
        ">Program to find sum of two numbers"
      ],
      "metadata": {
        "id": "xAlYILbM9pNo"
      }
    },
    {
      "cell_type": "code",
      "source": [
        "a=10\n",
        "b=5\n",
        "c=a+b\n",
        "print(\"The sum is :\",c)"
      ],
      "metadata": {
        "colab": {
          "base_uri": "https://localhost:8080/"
        },
        "id": "eCovzkT-9tMc",
        "outputId": "52df3672-9729-4dc1-ffa0-3fc4672ce878"
      },
      "execution_count": 4,
      "outputs": [
        {
          "output_type": "stream",
          "name": "stdout",
          "text": [
            "The sum is : 15\n"
          ]
        }
      ]
    },
    {
      "cell_type": "markdown",
      "source": [
        ">Read two numbers from user and find the sum."
      ],
      "metadata": {
        "id": "nliB8xUO-Uto"
      }
    },
    {
      "cell_type": "code",
      "source": [
        "a=input(\"Enter the first number:\")"
      ],
      "metadata": {
        "colab": {
          "base_uri": "https://localhost:8080/"
        },
        "id": "kNsG13WD-bsJ",
        "outputId": "b53accc9-525d-4113-9999-20b833789467"
      },
      "execution_count": 6,
      "outputs": [
        {
          "name": "stdout",
          "output_type": "stream",
          "text": [
            "Enter the first number:5\n"
          ]
        }
      ]
    },
    {
      "cell_type": "code",
      "source": [
        "b=input(\"Enter the second number:\")"
      ],
      "metadata": {
        "colab": {
          "base_uri": "https://localhost:8080/"
        },
        "id": "NCiX3v4a-m_n",
        "outputId": "bc88717e-437b-4ecd-d8d9-a9f3b426fe8e"
      },
      "execution_count": 8,
      "outputs": [
        {
          "name": "stdout",
          "output_type": "stream",
          "text": [
            "Enter the second number:43\n"
          ]
        }
      ]
    },
    {
      "cell_type": "code",
      "source": [
        "# displaying a and b\n",
        "print(a) # here input function  reads values as strings. int() cast it to integer"
      ],
      "metadata": {
        "colab": {
          "base_uri": "https://localhost:8080/"
        },
        "id": "gN2uuuwu-5Qw",
        "outputId": "ac79d96e-b601-4d0b-b569-4afddd8f9a87"
      },
      "execution_count": 9,
      "outputs": [
        {
          "output_type": "stream",
          "name": "stdout",
          "text": [
            "5\n"
          ]
        }
      ]
    },
    {
      "cell_type": "code",
      "source": [
        "sum=a+b\n",
        "print(\"The sum of numbers is :\",sum)"
      ],
      "metadata": {
        "colab": {
          "base_uri": "https://localhost:8080/"
        },
        "id": "Sdx_G-ww_GtI",
        "outputId": "dc1537a0-4975-48d5-b2f3-17f4938a7e43"
      },
      "execution_count": 10,
      "outputs": [
        {
          "output_type": "stream",
          "name": "stdout",
          "text": [
            "The sum of numbers is : 543\n"
          ]
        }
      ]
    },
    {
      "cell_type": "code",
      "source": [
        "a=int(input(\"Enter the first number:\"))\n",
        "b=int(input(\"Enter the second number:\"))\n",
        "s=a+b\n",
        "print(\"The sum is:\",s)"
      ],
      "metadata": {
        "colab": {
          "base_uri": "https://localhost:8080/"
        },
        "id": "tiNFN-BN_1X4",
        "outputId": "b7a19e82-6e62-4ad1-f6cd-c38aa4e3296f"
      },
      "execution_count": 11,
      "outputs": [
        {
          "output_type": "stream",
          "name": "stdout",
          "text": [
            "Enter the first number:5\n",
            "Enter the second number:47\n",
            "The sum is: 52\n"
          ]
        }
      ]
    }
  ]
}